{
  "nbformat": 4,
  "nbformat_minor": 0,
  "metadata": {
    "colab": {
      "provenance": [],
      "toc_visible": true,
      "authorship_tag": "ABX9TyNWXZzdtmMgFV6XL6Sht8yh",
      "include_colab_link": true
    },
    "kernelspec": {
      "name": "python3",
      "display_name": "Python 3"
    },
    "language_info": {
      "name": "python"
    }
  },
  "cells": [
    {
      "cell_type": "markdown",
      "metadata": {
        "id": "view-in-github",
        "colab_type": "text"
      },
      "source": [
        "<a href=\"https://colab.research.google.com/github/ElectricPicklePlayer/MML/blob/main/cosinusSimilariteit.ipynb\" target=\"_parent\"><img src=\"https://colab.research.google.com/assets/colab-badge.svg\" alt=\"Open In Colab\"/></a>"
      ]
    },
    {
      "cell_type": "code",
      "execution_count": null,
      "metadata": {
        "id": "LMP18Dyf9pF4"
      },
      "outputs": [],
      "source": [
        "import numpy as np"
      ]
    },
    {
      "cell_type": "markdown",
      "source": [],
      "metadata": {
        "id": "Z_pdxKTTOguH"
      }
    },
    {
      "cell_type": "markdown",
      "source": [
        "# Cosinus Similariteit\n",
        "\n",
        "https://youtube.com/watch?v=e9U0QAFbfLI\n",
        "\n",
        "\n",
        "$ x ⋅ y = x_1 + x_2 + ⋯ x_n y_n $\n",
        "\n",
        "$ x ⋅ y = \\lVert x \\rVert \\lVert y \\rVert \\cos(θ)  $\n",
        "\n",
        "$ \\cos(θ) = \\frac{x \\cdot y}{\\lVert x \\rVert \\lVert y \\rVert} $\n"
      ],
      "metadata": {
        "id": "22x1-bgxKzTA"
      }
    },
    {
      "cell_type": "code",
      "source": [
        "def cosinusSimilariteit(x, y):\n",
        "  assert x.ndim == 1 and y.ndim == 1, \"Geen vectoren\"\n",
        "  assert x.shape == y.shape, \"Vectoren zijn niet even lang\"\n",
        "\n",
        "  teller = np.dot(x, y)\n",
        "\n",
        "  noemer = np.linalg.norm(x)* np.linalg.norm(y)\n",
        "\n",
        "  return teller / noemer\n"
      ],
      "metadata": {
        "id": "b6_hWtpiSyrn"
      },
      "execution_count": null,
      "outputs": []
    },
    {
      "cell_type": "markdown",
      "source": [
        "## Vectorlengte\n",
        "\n",
        "Vectorlengte (of norm) is de vierkantswortel van de som van de kwadranten van de componenten van die vector. Anders verwoord, dit is de vierkantswortel van het inwendig product van de vector met zichzelf.\n"
      ],
      "metadata": {
        "id": "_67FBTbpEDXp"
      }
    },
    {
      "cell_type": "code",
      "source": [
        "x = np.array([1, 0, -1])\n",
        "#norm: sqrt( 1^2 +  0^2 + (-1)^2)\n",
        "np.sqrt(np.dot(x, x))"
      ],
      "metadata": {
        "id": "sCAbLs6bcZv5",
        "outputId": "6076b349-41fd-4f19-824f-0db61d77caa5",
        "colab": {
          "base_uri": "https://localhost:8080/"
        }
      },
      "execution_count": null,
      "outputs": [
        {
          "output_type": "execute_result",
          "data": {
            "text/plain": [
              "1.4142135623730951"
            ]
          },
          "metadata": {},
          "execution_count": 3
        }
      ]
    },
    {
      "cell_type": "markdown",
      "source": [
        "Of:"
      ],
      "metadata": {
        "id": "asGUWYwoc2aO"
      }
    },
    {
      "cell_type": "code",
      "source": [
        "np.linalg.norm(x)"
      ],
      "metadata": {
        "id": "7ErU3y1xc1RS",
        "outputId": "bcfbfe5f-1097-4d98-ded4-a2494cd71c0c",
        "colab": {
          "base_uri": "https://localhost:8080/"
        }
      },
      "execution_count": null,
      "outputs": [
        {
          "output_type": "execute_result",
          "data": {
            "text/plain": [
              "1.4142135623730951"
            ]
          },
          "metadata": {},
          "execution_count": 4
        }
      ]
    },
    {
      "cell_type": "markdown",
      "source": [],
      "metadata": {
        "id": "y9jQvnCVhqta"
      }
    },
    {
      "cell_type": "markdown",
      "source": [
        "## Voorbeeldresultaten\n"
      ],
      "metadata": {
        "id": "g3KQX4tRiMQc"
      }
    },
    {
      "cell_type": "markdown",
      "source": [],
      "metadata": {
        "id": "YdCzlM0nnGiz"
      }
    },
    {
      "cell_type": "code",
      "source": [
        "cosinusSimilariteit(x, x)"
      ],
      "metadata": {
        "colab": {
          "base_uri": "https://localhost:8080/"
        },
        "id": "c2FHx0RhmreF",
        "outputId": "93c160a0-28c7-4480-9394-1ceb887234ef"
      },
      "execution_count": null,
      "outputs": [
        {
          "output_type": "execute_result",
          "data": {
            "text/plain": [
              "0.9999999999999998"
            ]
          },
          "metadata": {},
          "execution_count": 5
        }
      ]
    },
    {
      "cell_type": "code",
      "source": [
        "cosinusSimilariteit(x, 2*x)"
      ],
      "metadata": {
        "colab": {
          "base_uri": "https://localhost:8080/"
        },
        "id": "zKYel-JRnc_X",
        "outputId": "6af91ce0-b36c-4a31-9222-e278b34dc073"
      },
      "execution_count": null,
      "outputs": [
        {
          "output_type": "execute_result",
          "data": {
            "text/plain": [
              "0.9999999999999998"
            ]
          },
          "metadata": {},
          "execution_count": 6
        }
      ]
    },
    {
      "cell_type": "markdown",
      "source": [
        "Omwille van lineaire afhankelijkheid, heeft de vermenigvuldiging van de vecotr geen effect op de cos. sim.\n"
      ],
      "metadata": {
        "id": "ZJohKyfQnhpZ"
      }
    },
    {
      "cell_type": "code",
      "source": [
        "cosinusSimilariteit(x, -1*x)"
      ],
      "metadata": {
        "colab": {
          "base_uri": "https://localhost:8080/"
        },
        "id": "84Nq8TC0o_60",
        "outputId": "bd56ac35-1727-4de4-81c6-e9a97d462bf6"
      },
      "execution_count": 10,
      "outputs": [
        {
          "output_type": "execute_result",
          "data": {
            "text/plain": [
              "-0.9999999999999998"
            ]
          },
          "metadata": {},
          "execution_count": 10
        }
      ]
    },
    {
      "cell_type": "code",
      "source": [
        "x = np.array([1, 0, -1])\n",
        "y = np.array([2, 25, 2])\n",
        "\n",
        "cosinusSimilariteit(x, y)\n"
      ],
      "metadata": {
        "colab": {
          "base_uri": "https://localhost:8080/"
        },
        "id": "3hpkp8POn87E",
        "outputId": "304236c8-04f8-4499-8d59-a23fe94de481"
      },
      "execution_count": 9,
      "outputs": [
        {
          "output_type": "execute_result",
          "data": {
            "text/plain": [
              "0.0"
            ]
          },
          "metadata": {},
          "execution_count": 9
        }
      ]
    },
    {
      "cell_type": "code",
      "source": [
        "x = np.array([1,0])\n",
        "y = np.array([1,1])\n",
        "\n",
        "cosinusSimilariteit(x, y)"
      ],
      "metadata": {
        "colab": {
          "base_uri": "https://localhost:8080/"
        },
        "id": "dFitaAImpJs_",
        "outputId": "a78e5e54-58b9-4ce7-ec3c-93e32c8ca9f1"
      },
      "execution_count": 12,
      "outputs": [
        {
          "output_type": "execute_result",
          "data": {
            "text/plain": [
              "0.7071067811865475"
            ]
          },
          "metadata": {},
          "execution_count": 12
        }
      ]
    }
  ]
}