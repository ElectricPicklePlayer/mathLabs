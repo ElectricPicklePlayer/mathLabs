{
  "nbformat": 4,
  "nbformat_minor": 0,
  "metadata": {
    "colab": {
      "provenance": [],
      "authorship_tag": "ABX9TyNVdCFwJLRj+YMuhaZ7zOL/",
      "include_colab_link": true
    },
    "kernelspec": {
      "name": "python3",
      "display_name": "Python 3"
    },
    "language_info": {
      "name": "python"
    }
  },
  "cells": [
    {
      "cell_type": "markdown",
      "metadata": {
        "id": "view-in-github",
        "colab_type": "text"
      },
      "source": [
        "<a href=\"https://colab.research.google.com/github/ElectricPicklePlayer/MML/blob/main/cosinusSimilariteit.ipynb\" target=\"_parent\"><img src=\"https://colab.research.google.com/assets/colab-badge.svg\" alt=\"Open In Colab\"/></a>"
      ]
    },
    {
      "cell_type": "code",
      "execution_count": null,
      "metadata": {
        "id": "LMP18Dyf9pF4"
      },
      "outputs": [],
      "source": []
    },
    {
      "cell_type": "markdown",
      "source": [],
      "metadata": {
        "id": "Z_pdxKTTOguH"
      }
    },
    {
      "cell_type": "markdown",
      "source": [
        "# Cosinus Similariteit\n",
        "\n",
        "https://youtube.com/watch?v=e9U0QAFbfLI\n",
        "\n",
        "\n",
        "$ x ⋅ y = x_1 + x_2 + ⋯ x_n y_n $\n",
        "\n",
        "$ x ⋅ y = \\lVert x \\rVert \\lVert y \\rVert \\cos(θ)  $\n",
        "\n",
        "$ \\cos(θ) = \\frac{x \\cdot y}{\\lVert x \\rVert \\lVert y \\rVert} $\n"
      ],
      "metadata": {
        "id": "22x1-bgxKzTA"
      }
    },
    {
      "cell_type": "code",
      "source": [
        "def cosinusSimilariteit(x, y):\n",
        ""
      ],
      "metadata": {
        "id": "b6_hWtpiSyrn"
      },
      "execution_count": null,
      "outputs": []
    }
  ]
}