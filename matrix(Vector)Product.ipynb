{
  "nbformat": 4,
  "nbformat_minor": 0,
  "metadata": {
    "colab": {
      "provenance": [],
      "authorship_tag": "ABX9TyMrwhwpVoK7wipYF8eJW/5e",
      "include_colab_link": true
    },
    "kernelspec": {
      "name": "python3",
      "display_name": "Python 3"
    },
    "language_info": {
      "name": "python"
    }
  },
  "cells": [
    {
      "cell_type": "markdown",
      "metadata": {
        "id": "view-in-github",
        "colab_type": "text"
      },
      "source": [
        "<a href=\"https://colab.research.google.com/github/ElectricPicklePlayer/mathLabs/blob/main/matrix(Vector)Product.ipynb\" target=\"_parent\"><img src=\"https://colab.research.google.com/assets/colab-badge.svg\" alt=\"Open In Colab\"/></a>"
      ]
    },
    {
      "cell_type": "markdown",
      "source": [
        " Create a function for matrix-vector product, and one for matrix products."
      ],
      "metadata": {
        "id": "a8jZCuSYDcec"
      }
    },
    {
      "cell_type": "code",
      "execution_count": 2,
      "metadata": {
        "id": "y84KATLqDLUs"
      },
      "outputs": [],
      "source": [
        "import numpy as np;"
      ]
    },
    {
      "cell_type": "code",
      "source": [
        "def matrixVectorProduct(A, b):\n",
        "  pass"
      ],
      "metadata": {
        "id": "7Xaq6ipC1Ny3"
      },
      "execution_count": null,
      "outputs": []
    },
    {
      "cell_type": "code",
      "source": [
        "def matrixProduct(A, B):\n",
        "  pass"
      ],
      "metadata": {
        "id": "eqMmzNwmJQxB"
      },
      "execution_count": 3,
      "outputs": []
    },
    {
      "cell_type": "code",
      "source": [],
      "metadata": {
        "id": "KDCIQp6QJlOH"
      },
      "execution_count": null,
      "outputs": []
    }
  ]
}