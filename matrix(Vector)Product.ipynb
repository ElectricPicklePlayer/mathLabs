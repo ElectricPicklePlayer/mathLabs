{
  "nbformat": 4,
  "nbformat_minor": 0,
  "metadata": {
    "colab": {
      "provenance": [],
      "authorship_tag": "ABX9TyP9PitWBp6ndbLsPCseIM37",
      "include_colab_link": true
    },
    "kernelspec": {
      "name": "python3",
      "display_name": "Python 3"
    },
    "language_info": {
      "name": "python"
    }
  },
  "cells": [
    {
      "cell_type": "markdown",
      "metadata": {
        "id": "view-in-github",
        "colab_type": "text"
      },
      "source": [
        "<a href=\"https://colab.research.google.com/github/ElectricPicklePlayer/mathLabs/blob/main/matrix(Vector)Product.ipynb\" target=\"_parent\"><img src=\"https://colab.research.google.com/assets/colab-badge.svg\" alt=\"Open In Colab\"/></a>"
      ]
    },
    {
      "cell_type": "markdown",
      "source": [
        " Create a function for matrix-vector product, and one for matrix products."
      ],
      "metadata": {
        "id": "a8jZCuSYDcec"
      }
    },
    {
      "cell_type": "code",
      "execution_count": 1,
      "metadata": {
        "id": "y84KATLqDLUs"
      },
      "outputs": [],
      "source": [
        "import numpy as np;"
      ]
    },
    {
      "cell_type": "code",
      "source": [
        "def matrixVectorProduct(A, b):\n",
        "\n",
        "  assert isinstance(A, np.ndarray) and isinstance(b, np.ndarray), \"A en x moeten numpy arrays\"\n",
        "  assert A.ndim ==2, \"A moet een matrix zijn\"\n",
        "  assert b.ndim == 1, \"b moet een vector zijn\"\n",
        "  assert A.shape[1] == b.shape[0], \"ze zijn niet compatibel\"\n",
        "\n",
        "  resultaat = A[:,0] * b[0]\n",
        "\n",
        "  for i in range(1, A.shape[1]):\n",
        "    resultaat += A[:, i] * b[i]\n",
        "\n",
        "  return resultaat\n",
        "\n",
        "def matrixProduct(A, B):\n",
        "\n",
        "  assert A.shape[1] == B.shape[0], \"ze zijn niet compatibel\"\n",
        "\n",
        "  C = np.empty(shape=(A.shape[0], B.shape[1]))\n",
        "\n",
        "  for c in range(B.shape[1]):\n",
        "    C[:,c] = matrixVectorProduct(A, B[:,c])\n",
        "\n",
        "  return C\n",
        "\n",
        "\n"
      ],
      "metadata": {
        "id": "7Xaq6ipC1Ny3",
        "collapsed": true
      },
      "execution_count": 19,
      "outputs": []
    },
    {
      "cell_type": "code",
      "source": [
        "A = np.arange(6).reshape(2, 3)\n",
        "B = np.arange(9).reshape(3, 3) -5"
      ],
      "metadata": {
        "id": "eqMmzNwmJQxB"
      },
      "execution_count": 9,
      "outputs": []
    },
    {
      "cell_type": "code",
      "source": [
        "matrixProduct(A, B)"
      ],
      "metadata": {
        "id": "KDCIQp6QJlOH",
        "outputId": "def2b457-1ec0-4263-8358-bbdf60d5eedf",
        "colab": {
          "base_uri": "https://localhost:8080/"
        }
      },
      "execution_count": 20,
      "outputs": [
        {
          "output_type": "execute_result",
          "data": {
            "text/plain": [
              "array([[  0.,   3.,   6.],\n",
              "       [-18.,  -6.,   6.]])"
            ]
          },
          "metadata": {},
          "execution_count": 20
        }
      ]
    },
    {
      "cell_type": "code",
      "source": [
        "A @ B"
      ],
      "metadata": {
        "id": "-U20Ud6I8mTr",
        "outputId": "2babcff4-1fab-4f5f-ec55-201b97150168",
        "colab": {
          "base_uri": "https://localhost:8080/"
        }
      },
      "execution_count": 21,
      "outputs": [
        {
          "output_type": "execute_result",
          "data": {
            "text/plain": [
              "array([[  0,   3,   6],\n",
              "       [-18,  -6,   6]])"
            ]
          },
          "metadata": {},
          "execution_count": 21
        }
      ]
    }
  ]
}